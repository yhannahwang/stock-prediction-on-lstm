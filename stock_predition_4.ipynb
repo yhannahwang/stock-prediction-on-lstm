{
 "cells": [
  {
   "cell_type": "code",
   "execution_count": 1,
   "source": [
    "import numpy as np # linear algebra\n",
    "import random\n",
    "import pandas as pd # data processing, CSV file I/O (e.g. pd.read_csv)\n",
    "import matplotlib.pyplot as plt\n",
    "from pandas import datetime\n",
    "import math, time\n",
    "import itertools\n",
    "from sklearn import preprocessing\n",
    "from sklearn.preprocessing import MinMaxScaler\n",
    "import datetime\n",
    "from operator import itemgetter\n",
    "from sklearn.metrics import mean_squared_error\n",
    "from math import sqrt\n",
    "import torch\n",
    "import torch.nn as nn\n",
    "from torch.autograd import Variable"
   ],
   "outputs": [
    {
     "output_type": "stream",
     "name": "stderr",
     "text": [
      "<ipython-input-1-a9ff8d01cf87>:5: FutureWarning: The pandas.datetime class is deprecated and will be removed from pandas in a future version. Import from datetime module instead.\n",
      "  from pandas import datetime\n"
     ]
    }
   ],
   "metadata": {}
  },
  {
   "cell_type": "code",
   "execution_count": 3,
   "source": [
    "dates     = pd.date_range('2010-10-11','2017-10-11',freq = 'B')\n",
    "df_main   = pd.DataFrame(index = dates)\n",
    "df_aaxj   = pd.read_csv(\"data_stock/ETFs/aaxj.us.txt\", parse_dates=True, index_col=0)\n",
    "df_main   = df_main.join(df_aaxj)"
   ],
   "outputs": [],
   "metadata": {}
  },
  {
   "cell_type": "code",
   "execution_count": 4,
   "source": [
    "df_main[['Close']].plot()\n",
    "plt.ylabel(\"stock_price\")\n",
    "plt.title(\"aaxj ETFs\")\n",
    "plt.show()"
   ],
   "outputs": [
    {
     "output_type": "display_data",
     "data": {
      "text/plain": [
       "<Figure size 432x288 with 1 Axes>"
      ],
      "image/png": "[encoded data removed]"
     },
     "metadata": {
      "needs_background": "light"
     }
    }
   ],
   "metadata": {}
  },
  {
   "cell_type": "code",
   "execution_count": 5,
   "source": [
    "df_main"
   ],
   "outputs": [
    {
     "output_type": "execute_result",
     "data": {
      "text/plain": [
       "              Open    High     Low   Close     Volume  OpenInt\n",
       "2010-10-11  55.971  56.052  55.863  56.052   268544.0      0.0\n",
       "2010-10-12  55.676  55.792  55.362  55.667   817951.0      0.0\n",
       "2010-10-13  56.472  56.867  56.401  56.569   999413.0      0.0\n",
       "2010-10-14  56.733  56.742  56.293  56.579   661897.0      0.0\n",
       "2010-10-15  56.893  56.893  56.194  56.552   245001.0      0.0\n",
       "...            ...     ...     ...     ...        ...      ...\n",
       "2017-10-05  73.500  74.030  73.500  73.970  2134323.0      0.0\n",
       "2017-10-06  73.470  73.650  73.220  73.579  2092100.0      0.0\n",
       "2017-10-09  73.500  73.795  73.480  73.770   879600.0      0.0\n",
       "2017-10-10  74.150  74.490  74.150  74.480  1878845.0      0.0\n",
       "2017-10-11  74.290  74.645  74.210  74.610  1168511.0      0.0\n",
       "\n",
       "[1828 rows x 6 columns]"
      ],
      "text/html": [
       "<div>\n",
       "<style scoped>\n",
       "    .dataframe tbody tr th:only-of-type {\n",
       "        vertical-align: middle;\n",
       "    }\n",
       "\n",
       "    .dataframe tbody tr th {\n",
       "        vertical-align: top;\n",
       "    }\n",
       "\n",
       "    .dataframe thead th {\n",
       "        text-align: right;\n",
       "    }\n",
       "</style>\n",
       "<table border=\"1\" class=\"dataframe\">\n",
       "  <thead>\n",
       "    <tr style=\"text-align: right;\">\n",
       "      <th></th>\n",
       "      <th>Open</th>\n",
       "      <th>High</th>\n",
       "      <th>Low</th>\n",
       "      <th>Close</th>\n",
       "      <th>Volume</th>\n",
       "      <th>OpenInt</th>\n",
       "    </tr>\n",
       "  </thead>\n",
       "  <tbody>\n",
       "    <tr>\n",
       "      <th>2010-10-11</th>\n",
       "      <td>55.971</td>\n",
       "      <td>56.052</td>\n",
       "      <td>55.863</td>\n",
       "      <td>56.052</td>\n",
       "      <td>268544.0</td>\n",
       "      <td>0.0</td>\n",
       "    </tr>\n",
       "    <tr>\n",
       "      <th>2010-10-12</th>\n",
       "      <td>55.676</td>\n",
       "      <td>55.792</td>\n",
       "      <td>55.362</td>\n",
       "      <td>55.667</td>\n",
       "      <td>817951.0</td>\n",
       "      <td>0.0</td>\n",
       "    </tr>\n",
       "    <tr>\n",
       "      <th>2010-10-13</th>\n",
       "      <td>56.472</td>\n",
       "      <td>56.867</td>\n",
       "      <td>56.401</td>\n",
       "      <td>56.569</td>\n",
       "      <td>999413.0</td>\n",
       "      <td>0.0</td>\n",
       "    </tr>\n",
       "    <tr>\n",
       "      <th>2010-10-14</th>\n",
       "      <td>56.733</td>\n",
       "      <td>56.742</td>\n",
       "      <td>56.293</td>\n",
       "      <td>56.579</td>\n",
       "      <td>661897.0</td>\n",
       "      <td>0.0</td>\n",
       "    </tr>\n",
       "    <tr>\n",
       "      <th>2010-10-15</th>\n",
       "      <td>56.893</td>\n",
       "      <td>56.893</td>\n",
       "      <td>56.194</td>\n",
       "      <td>56.552</td>\n",
       "      <td>245001.0</td>\n",
       "      <td>0.0</td>\n",
       "    </tr>\n",
       "    <tr>\n",
       "      <th>...</th>\n",
       "      <td>...</td>\n",
       "      <td>...</td>\n",
       "      <td>...</td>\n",
       "      <td>...</td>\n",
       "      <td>...</td>\n",
       "      <td>...</td>\n",
       "    </tr>\n",
       "    <tr>\n",
       "      <th>2017-10-05</th>\n",
       "      <td>73.500</td>\n",
       "      <td>74.030</td>\n",
       "      <td>73.500</td>\n",
       "      <td>73.970</td>\n",
       "      <td>2134323.0</td>\n",
       "      <td>0.0</td>\n",
       "    </tr>\n",
       "    <tr>\n",
       "      <th>2017-10-06</th>\n",
       "      <td>73.470</td>\n",
       "      <td>73.650</td>\n",
       "      <td>73.220</td>\n",
       "      <td>73.579</td>\n",
       "      <td>2092100.0</td>\n",
       "      <td>0.0</td>\n",
       "    </tr>\n",
       "    <tr>\n",
       "      <th>2017-10-09</th>\n",
       "      <td>73.500</td>\n",
       "      <td>73.795</td>\n",
       "      <td>73.480</td>\n",
       "      <td>73.770</td>\n",
       "      <td>879600.0</td>\n",
       "      <td>0.0</td>\n",
       "    </tr>\n",
       "    <tr>\n",
       "      <th>2017-10-10</th>\n",
       "      <td>74.150</td>\n",
       "      <td>74.490</td>\n",
       "      <td>74.150</td>\n",
       "      <td>74.480</td>\n",
       "      <td>1878845.0</td>\n",
       "      <td>0.0</td>\n",
       "    </tr>\n",
       "    <tr>\n",
       "      <th>2017-10-11</th>\n",
       "      <td>74.290</td>\n",
       "      <td>74.645</td>\n",
       "      <td>74.210</td>\n",
       "      <td>74.610</td>\n",
       "      <td>1168511.0</td>\n",
       "      <td>0.0</td>\n",
       "    </tr>\n",
       "  </tbody>\n",
       "</table>\n",
       "<p>1828 rows × 6 columns</p>\n",
       "</div>"
      ]
     },
     "metadata": {},
     "execution_count": 5
    }
   ],
   "metadata": {}
  },
  {
   "cell_type": "code",
   "execution_count": 6,
   "source": [
    "sel_col = ['Open', 'High', 'Low', 'Close']\n",
    "df_main = df_main[sel_col]\n",
    "df_main.head()"
   ],
   "outputs": [
    {
     "output_type": "execute_result",
     "data": {
      "text/plain": [
       "              Open    High     Low   Close\n",
       "2010-10-11  55.971  56.052  55.863  56.052\n",
       "2010-10-12  55.676  55.792  55.362  55.667\n",
       "2010-10-13  56.472  56.867  56.401  56.569\n",
       "2010-10-14  56.733  56.742  56.293  56.579\n",
       "2010-10-15  56.893  56.893  56.194  56.552"
      ],
      "text/html": [
       "<div>\n",
       "<style scoped>\n",
       "    .dataframe tbody tr th:only-of-type {\n",
       "        vertical-align: middle;\n",
       "    }\n",
       "\n",
       "    .dataframe tbody tr th {\n",
       "        vertical-align: top;\n",
       "    }\n",
       "\n",
       "    .dataframe thead th {\n",
       "        text-align: right;\n",
       "    }\n",
       "</style>\n",
       "<table border=\"1\" class=\"dataframe\">\n",
       "  <thead>\n",
       "    <tr style=\"text-align: right;\">\n",
       "      <th></th>\n",
       "      <th>Open</th>\n",
       "      <th>High</th>\n",
       "      <th>Low</th>\n",
       "      <th>Close</th>\n",
       "    </tr>\n",
       "  </thead>\n",
       "  <tbody>\n",
       "    <tr>\n",
       "      <th>2010-10-11</th>\n",
       "      <td>55.971</td>\n",
       "      <td>56.052</td>\n",
       "      <td>55.863</td>\n",
       "      <td>56.052</td>\n",
       "    </tr>\n",
       "    <tr>\n",
       "      <th>2010-10-12</th>\n",
       "      <td>55.676</td>\n",
       "      <td>55.792</td>\n",
       "      <td>55.362</td>\n",
       "      <td>55.667</td>\n",
       "    </tr>\n",
       "    <tr>\n",
       "      <th>2010-10-13</th>\n",
       "      <td>56.472</td>\n",
       "      <td>56.867</td>\n",
       "      <td>56.401</td>\n",
       "      <td>56.569</td>\n",
       "    </tr>\n",
       "    <tr>\n",
       "      <th>2010-10-14</th>\n",
       "      <td>56.733</td>\n",
       "      <td>56.742</td>\n",
       "      <td>56.293</td>\n",
       "      <td>56.579</td>\n",
       "    </tr>\n",
       "    <tr>\n",
       "      <th>2010-10-15</th>\n",
       "      <td>56.893</td>\n",
       "      <td>56.893</td>\n",
       "      <td>56.194</td>\n",
       "      <td>56.552</td>\n",
       "    </tr>\n",
       "  </tbody>\n",
       "</table>\n",
       "</div>"
      ]
     },
     "metadata": {},
     "execution_count": 6
    }
   ],
   "metadata": {}
  },
  {
   "cell_type": "code",
   "execution_count": 7,
   "source": [
    "df_main = df_main.fillna(method='ffill')\n",
    "scaler = MinMaxScaler(feature_range=(-1, 1))\n",
    "for col in sel_col:\n",
    "    df_main[col] = scaler.fit_transform(df_main[col].values.reshape(-1,1))"
   ],
   "outputs": [],
   "metadata": {}
  },
  {
   "cell_type": "code",
   "execution_count": 8,
   "source": [
    "df_main['target'] = df_main['Close'].shift(-1) \n",
    "df_main.dropna()\n",
    "df_main = df_main.astype(np.float32)"
   ],
   "outputs": [],
   "metadata": {}
  },
  {
   "cell_type": "code",
   "execution_count": 9,
   "source": [
    "def create_seq_data(data_raw,seq):\n",
    "    data_feat,data_target = [],[]\n",
    "    for index in range(len(data_raw) - seq):\n",
    "        data_feat.append(data_raw[['Open', 'High', 'Low', 'Close']][index: index + seq].values)\n",
    "        data_target.append(data_raw['target'][index:index + seq])\n",
    "    data_feat = np.array(data_feat)\n",
    "    data_target = np.array(data_target)\n",
    "    return data_feat,data_target\n",
    "\n",
    "def train_test(data_feat,data_target,test_set_size,seq):\n",
    "    train_size = data_feat.shape[0] - (test_set_size) \n",
    "    trainX = torch.from_numpy(data_feat[:train_size].reshape(-1,seq,4)).type(torch.Tensor)\n",
    "    testX  = torch.from_numpy(data_feat[train_size:].reshape(-1,seq,4)).type(torch.Tensor)\n",
    "    trainY = torch.from_numpy(data_target[:train_size].reshape(-1,seq,1)).type(torch.Tensor)\n",
    "    testY  = torch.from_numpy(data_target[train_size:].reshape(-1,seq,1)).type(torch.Tensor)\n",
    "    return trainX,trainY,testX,testY"
   ],
   "outputs": [],
   "metadata": {}
  },
  {
   "cell_type": "code",
   "execution_count": 10,
   "source": [
    "data_raw = df_main\n",
    "seq = 20\n",
    "test_set_size = int(np.round(0.2*data_raw.shape[0]))\n",
    "# generate train & test dataset\n",
    "feat,target = create_seq_data(data_raw,seq)\n",
    "trainX,trainY,testX,testY = train_test(feat,target,test_set_size,seq)"
   ],
   "outputs": [],
   "metadata": {}
  },
  {
   "cell_type": "code",
   "execution_count": 11,
   "source": [
    "print('x_train.shape = ',trainX.shape)\n",
    "print('y_train.shape = ',trainY.shape)\n",
    "print('x_test.shape = ',testX.shape)\n",
    "print('y_test.shape = ',testY.shape)"
   ],
   "outputs": [
    {
     "output_type": "stream",
     "name": "stdout",
     "text": [
      "x_train.shape =  torch.Size([1442, 20, 4])\n",
      "y_train.shape =  torch.Size([1442, 20, 1])\n",
      "x_test.shape =  torch.Size([366, 20, 4])\n",
      "y_test.shape =  torch.Size([366, 20, 1])\n"
     ]
    }
   ],
   "metadata": {}
  },
  {
   "cell_type": "code",
   "execution_count": 12,
   "source": [
    "n_steps = seq\n",
    "batch_size = 1442\n",
    "num_epochs = 100"
   ],
   "outputs": [],
   "metadata": {}
  },
  {
   "cell_type": "code",
   "execution_count": 13,
   "source": [
    "train = torch.utils.data.TensorDataset(trainX,trainY)\n",
    "test = torch.utils.data.TensorDataset(testX,testY)\n",
    "train_loader = torch.utils.data.DataLoader(dataset=train, \n",
    "                                           batch_size=batch_size, \n",
    "                                           shuffle=False)\n",
    "\n",
    "test_loader = torch.utils.data.DataLoader(dataset=test, \n",
    "                                          batch_size=batch_size, \n",
    "                                          shuffle=False)"
   ],
   "outputs": [],
   "metadata": {}
  },
  {
   "cell_type": "code",
   "execution_count": 14,
   "source": [
    "# Build model\n",
    "#####################\n",
    "input_dim = 4\n",
    "hidden_dim = 32\n",
    "num_layers = 2 \n",
    "output_dim = 1\n",
    "class LSTM(nn.Module):\n",
    "    def __init__(self, input_dim, hidden_dim, num_layers, output_dim):\n",
    "        super(LSTM, self).__init__()\n",
    "        # Hidden dimensions\n",
    "        self.hidden_dim = hidden_dim\n",
    "\n",
    "        # Number of hidden layers\n",
    "        self.num_layers = num_layers\n",
    "\n",
    "        # Building your LSTM\n",
    "        # batch_first=True causes input/output tensors to be of shape\n",
    "        # (batch_dim, seq_dim, feature_dim)\n",
    "        self.lstm = nn.LSTM(input_dim, hidden_dim, num_layers, batch_first=True)\n",
    "\n",
    "        # Readout layer\n",
    "        self.fc = nn.Linear(hidden_dim, output_dim)\n",
    "\n",
    "    def forward(self, x):\n",
    "        # Initialize hidden state with zeros\n",
    "        h0 = torch.zeros(self.num_layers, x.size(0), self.hidden_dim).requires_grad_()\n",
    "\n",
    "        # Initialize cell state\n",
    "        c0 = torch.zeros(self.num_layers, x.size(0), self.hidden_dim).requires_grad_()\n",
    "\n",
    "        # One time step\n",
    "        # We need to detach as we are doing truncated backpropagation through time (BPTT)\n",
    "        # If we don't, we'll backprop all the way to the start even after going through another batch\n",
    "        out, (hn, cn) = self.lstm(x, (h0.detach(), c0.detach()))\n",
    "\n",
    "        out = self.fc(out) \n",
    "        # out.size() --> 100, 10\n",
    "        return out\n",
    "    "
   ],
   "outputs": [],
   "metadata": {}
  },
  {
   "cell_type": "code",
   "execution_count": 15,
   "source": [
    "model = LSTM(input_dim=input_dim, hidden_dim=hidden_dim, output_dim=output_dim, num_layers=num_layers)\n",
    "\n",
    "loss_fn = torch.nn.MSELoss(size_average=True)\n",
    "\n",
    "optimiser = torch.optim.Adam(model.parameters(), lr=0.01)\n",
    "print(model)\n",
    "print(len(list(model.parameters())))\n",
    "for i in range(len(list(model.parameters()))):\n",
    "    print(list(model.parameters())[i].size())"
   ],
   "outputs": [
    {
     "output_type": "stream",
     "name": "stdout",
     "text": [
      "LSTM(\n",
      "  (lstm): LSTM(4, 32, num_layers=2, batch_first=True)\n",
      "  (fc): Linear(in_features=32, out_features=1, bias=True)\n",
      ")\n",
      "10\n",
      "torch.Size([128, 4])\n",
      "torch.Size([128, 32])\n",
      "torch.Size([128])\n",
      "torch.Size([128])\n",
      "torch.Size([128, 32])\n",
      "torch.Size([128, 32])\n",
      "torch.Size([128])\n",
      "torch.Size([128])\n",
      "torch.Size([1, 32])\n",
      "torch.Size([1])\n"
     ]
    },
    {
     "output_type": "stream",
     "name": "stderr",
     "text": [
      "/Users/user/miniconda3/lib/python3.8/site-packages/torch/nn/_reduction.py:42: UserWarning: size_average and reduce args will be deprecated, please use reduction='mean' instead.\n",
      "  warnings.warn(warning.format(ret))\n"
     ]
    }
   ],
   "metadata": {}
  },
  {
   "cell_type": "code",
   "execution_count": 16,
   "source": [
    "# train model\n",
    "hist = np.zeros(num_epochs)\n",
    "seq_dim = seq\n",
    "for t in range(num_epochs):\n",
    "    # Initialise hidden state\n",
    "    # Don't do this if you want your LSTM to be stateful\n",
    "    #model.hidden = model.init_hidden()\n",
    "    \n",
    "    # Forward pass\n",
    "    y_train_pred = model(trainX)\n",
    "\n",
    "    loss = loss_fn(y_train_pred, trainY)\n",
    "    if t % 10 == 0 and t !=0:\n",
    "        print(\"Epoch \", t, \"MSE: \", loss.item())\n",
    "    hist[t] = loss.item()\n",
    "\n",
    "    # Zero out gradient, else they will accumulate between epochs\n",
    "    optimiser.zero_grad()\n",
    "\n",
    "    # Backward pass\n",
    "    loss.backward()\n",
    "\n",
    "    # Update parameters\n",
    "    optimiser.step()"
   ],
   "outputs": [
    {
     "output_type": "stream",
     "name": "stdout",
     "text": [
      "Epoch  10 MSE:  0.010402530431747437\n",
      "Epoch  20 MSE:  0.007251657545566559\n",
      "Epoch  30 MSE:  0.004119187593460083\n",
      "Epoch  40 MSE:  0.00281751761212945\n",
      "Epoch  50 MSE:  0.0022074738517403603\n",
      "Epoch  60 MSE:  0.0019206268480047584\n",
      "Epoch  70 MSE:  0.001757945865392685\n",
      "Epoch  80 MSE:  0.0016929371049627662\n",
      "Epoch  90 MSE:  0.0016397865256294608\n"
     ]
    }
   ],
   "metadata": {}
  },
  {
   "cell_type": "code",
   "execution_count": 17,
   "source": [
    "p = y_train_pred.detach().numpy()[:,-1,0]\n",
    "trainY_target = trainY.detach().numpy()[:,-1,0]"
   ],
   "outputs": [],
   "metadata": {}
  },
  {
   "cell_type": "code",
   "execution_count": 18,
   "source": [
    "plt.plot(p, label=\"Preds\")\n",
    "plt.plot(trainY_target, label=\"Data\")\n",
    "plt.legend()\n",
    "plt.show()\n",
    "\n",
    "plt.plot(hist, label=\"Training loss\")\n",
    "plt.legend()\n",
    "plt.show()"
   ],
   "outputs": [
    {
     "output_type": "display_data",
     "data": {
      "text/plain": [
       "<Figure size 432x288 with 1 Axes>"
      ],
      "image/png": "[encoded data removed]"
     },
     "metadata": {
      "needs_background": "light"
     }
    },
    {
     "output_type": "display_data",
     "data": {
      "text/plain": [
       "<Figure size 432x288 with 1 Axes>"
      ],
      "image/png": "[encoded data removed]"
     },
     "metadata": {
      "needs_background": "light"
     }
    }
   ],
   "metadata": {}
  },
  {
   "cell_type": "code",
   "execution_count": 19,
   "source": [
    "# make predictions\n",
    "y_test_pred = model(testX)\n",
    "y_train_pred.detach().numpy()[:,-1,0]"
   ],
   "outputs": [
    {
     "output_type": "execute_result",
     "data": {
      "text/plain": [
       "array([ 0.05117842,  0.04489202,  0.03115333, ..., -0.40893587,\n",
       "       -0.4540869 , -0.42189342], dtype=float32)"
      ]
     },
     "metadata": {},
     "execution_count": 19
    }
   ],
   "metadata": {}
  },
  {
   "cell_type": "code",
   "execution_count": 20,
   "source": [
    "# invert predictions\n",
    "y_train_pred = scaler.inverse_transform(y_train_pred.detach().numpy()[:,-1,0].reshape(-1,1))\n",
    "y_train = scaler.inverse_transform(trainY.detach().numpy()[:,-1,0].reshape(-1,1))\n",
    "y_test_pred = scaler.inverse_transform(y_test_pred.detach().numpy()[:,-1,0].reshape(-1,1))\n",
    "y_test = scaler.inverse_transform(testY.detach().numpy()[:,-1,0].reshape(-1,1))\n",
    "\n",
    "# calculate root mean squared error\n",
    "trainScore = math.sqrt(mean_squared_error(y_train, y_train_pred))\n",
    "print('Train Score: %.2f RMSE' % (trainScore))\n",
    "testScore = math.sqrt(mean_squared_error(y_test, y_test_pred))\n",
    "print('Test Score: %.2f RMSE' % (testScore))"
   ],
   "outputs": [
    {
     "output_type": "stream",
     "name": "stdout",
     "text": [
      "Train Score: 0.66 RMSE\n",
      "Test Score: 0.79 RMSE\n"
     ]
    }
   ],
   "metadata": {}
  },
  {
   "cell_type": "code",
   "execution_count": 21,
   "source": [
    "df_test_final = pd.DataFrame(y_test,columns = ['y_test']).join(pd.DataFrame(y_test_pred,columns = ['y_test_pred']))\n",
    "df_test_final"
   ],
   "outputs": [],
   "metadata": {}
  },
  {
   "cell_type": "code",
   "execution_count": 22,
   "source": [
    "df_test_final[['y_test', 'y_test_pred']].plot()\n",
    "plt.ylabel(\"ETFs_price\")\n",
    "plt.show()"
   ],
   "outputs": [
    {
     "output_type": "display_data",
     "data": {
      "text/plain": [
       "<Figure size 432x288 with 1 Axes>"
      ],
      "image/png": "[encoded data removed]"
     },
     "metadata": {
      "needs_background": "light"
     }
    }
   ],
   "metadata": {}
  },
  {
   "cell_type": "code",
   "execution_count": null,
   "source": [],
   "outputs": [],
   "metadata": {}
  }
 ],
 "metadata": {
  "kernelspec": {
   "name": "python3",
   "display_name": "Python 3.8.10 64-bit ('base': conda)"
  },
  "language_info": {
   "codemirror_mode": {
    "name": "ipython",
    "version": 3
   },
   "file_extension": ".py",
   "mimetype": "text/x-python",
   "name": "python",
   "nbconvert_exporter": "python",
   "pygments_lexer": "ipython3",
   "version": "3.8.10"
  },
  "interpreter": {
   "hash": "69301c35aa492a567aff22ff922fcafaffbc33c7ff0e3f0e00d95fd7a5792235"
  }
 },
 "nbformat": 4,
 "nbformat_minor": 4
}