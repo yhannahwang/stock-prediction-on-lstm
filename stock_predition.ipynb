{
 "cells": [
  {
   "cell_type": "code",
   "execution_count": 2,
   "source": [
    "import numpy as np # linear algebra\n",
    "import random\n",
    "import pandas as pd # data processing, CSV file I/O (e.g. pd.read_csv)\n",
    "import matplotlib.pyplot as plt\n",
    "from pandas import datetime\n",
    "import math, time\n",
    "import itertools\n",
    "from sklearn import preprocessing\n",
    "from sklearn.preprocessing import MinMaxScaler\n",
    "import datetime \n",
    "from operator import itemgetter\n",
    "from sklearn.metrics import mean_squared_error\n",
    "from math import sqrt\n",
    "import torch\n",
    "import torch.nn as nn\n",
    "from torch.autograd import Variable"
   ],
   "outputs": [
    {
     "output_type": "stream",
     "name": "stderr",
     "text": [
      "<ipython-input-2-a9ff8d01cf87>:5: FutureWarning: The pandas.datetime class is deprecated and will be removed from pandas in a future version. Import from datetime module instead.\n",
      "  from pandas import datetime\n"
     ]
    }
   ],
   "metadata": {}
  },
  {
   "cell_type": "code",
   "execution_count": 39,
   "source": [
    "import os\n",
    "for dirname, _, filenames in os.walk('data/'):\n",
    "    for i, filename in enumerate(filenames):\n",
    "        if i<5:\n",
    "            print(os.path.join(dirname,filename))"
   ],
   "outputs": [],
   "metadata": {}
  },
  {
   "cell_type": "code",
   "execution_count": 40,
   "source": [
    "symbols = ['a','aa']"
   ],
   "outputs": [],
   "metadata": {}
  },
  {
   "cell_type": "code",
   "execution_count": 41,
   "source": [
    "def stocks_data(symbols, dates):\n",
    "    df = pd.DataFrame(index=dates)\n",
    "    for symbol in symbols:\n",
    "        df_temp = pd.read_csv(\"data_stock/Stocks/{}.us.txt\".format(symbol), index_col='Date',\n",
    "                parse_dates=True, usecols=['Date', 'Close'], na_values=['nan'])\n",
    "        df_temp = df_temp.rename(columns={'Close': symbol})\n",
    "        df = df.join(df_temp)\n",
    "    return df"
   ],
   "outputs": [],
   "metadata": {}
  },
  {
   "cell_type": "code",
   "execution_count": 22,
   "source": [
    "os.getcwd()"
   ],
   "outputs": [
    {
     "output_type": "execute_result",
     "data": {
      "text/plain": [
       "'/Users/user/Documents/stock-prediction-on-lstm'"
      ]
     },
     "metadata": {},
     "execution_count": 22
    }
   ],
   "metadata": {}
  },
  {
   "cell_type": "code",
   "execution_count": 42,
   "source": [
    "dates = pd.date_range('2015-01-02','2016-12-31',freq='B')\n",
    "symbols = ['a','aa']\n",
    "df = stocks_data(symbols, dates)\n",
    "df.fillna(method='pad')\n",
    "print(df)\n",
    "df.interpolate().plot()\n",
    "plt.show()"
   ],
   "outputs": [
    {
     "output_type": "stream",
     "name": "stdout",
     "text": [
      "                 a      aa\n",
      "2015-01-02  39.431  34.584\n",
      "2015-01-05  38.692  32.578\n",
      "2015-01-06  38.089  32.822\n",
      "2015-01-07  38.596  33.671\n",
      "2015-01-08  39.751  34.628\n",
      "...            ...     ...\n",
      "2016-12-26     NaN     NaN\n",
      "2016-12-27  46.065  29.650\n",
      "2016-12-28  45.282  29.430\n",
      "2016-12-29  45.334  28.890\n",
      "2016-12-30  45.254  28.080\n",
      "\n",
      "[521 rows x 2 columns]\n"
     ]
    },
    {
     "output_type": "display_data",
     "data": {
      "text/plain": [
       "<Figure size 432x288 with 1 Axes>"
      ],
      "image/png": "[encoded data removed]"
     },
     "metadata": {
      "needs_background": "light"
     }
    }
   ],
   "metadata": {}
  },
  {
   "cell_type": "code",
   "execution_count": 43,
   "source": [
    "df.head()"
   ],
   "outputs": [
    {
     "output_type": "execute_result",
     "data": {
      "text/plain": [
       "                 a      aa\n",
       "2015-01-02  39.431  34.584\n",
       "2015-01-05  38.692  32.578\n",
       "2015-01-06  38.089  32.822\n",
       "2015-01-07  38.596  33.671\n",
       "2015-01-08  39.751  34.628"
      ],
      "text/html": [
       "<div>\n",
       "<style scoped>\n",
       "    .dataframe tbody tr th:only-of-type {\n",
       "        vertical-align: middle;\n",
       "    }\n",
       "\n",
       "    .dataframe tbody tr th {\n",
       "        vertical-align: top;\n",
       "    }\n",
       "\n",
       "    .dataframe thead th {\n",
       "        text-align: right;\n",
       "    }\n",
       "</style>\n",
       "<table border=\"1\" class=\"dataframe\">\n",
       "  <thead>\n",
       "    <tr style=\"text-align: right;\">\n",
       "      <th></th>\n",
       "      <th>a</th>\n",
       "      <th>aa</th>\n",
       "    </tr>\n",
       "  </thead>\n",
       "  <tbody>\n",
       "    <tr>\n",
       "      <th>2015-01-02</th>\n",
       "      <td>39.431</td>\n",
       "      <td>34.584</td>\n",
       "    </tr>\n",
       "    <tr>\n",
       "      <th>2015-01-05</th>\n",
       "      <td>38.692</td>\n",
       "      <td>32.578</td>\n",
       "    </tr>\n",
       "    <tr>\n",
       "      <th>2015-01-06</th>\n",
       "      <td>38.089</td>\n",
       "      <td>32.822</td>\n",
       "    </tr>\n",
       "    <tr>\n",
       "      <th>2015-01-07</th>\n",
       "      <td>38.596</td>\n",
       "      <td>33.671</td>\n",
       "    </tr>\n",
       "    <tr>\n",
       "      <th>2015-01-08</th>\n",
       "      <td>39.751</td>\n",
       "      <td>34.628</td>\n",
       "    </tr>\n",
       "  </tbody>\n",
       "</table>\n",
       "</div>"
      ]
     },
     "metadata": {},
     "execution_count": 43
    }
   ],
   "metadata": {}
  },
  {
   "cell_type": "code",
   "execution_count": 44,
   "source": [
    "dates = pd.date_range('2010-01-02','2017-10-11',freq='B')\n",
    "df1=pd.DataFrame(index=dates)\n",
    "df_ibm=pd.read_csv(\"data_stock/Stocks/a.us.txt\", parse_dates=True, index_col=0)\n",
    "df_ibm=df1.join(df_ibm)\n",
    "df_ibm[['Close']].plot()\n",
    "plt.ylabel(\"stock_price\")\n",
    "plt.title(\"A Stock\")\n",
    "plt.show()"
   ],
   "outputs": [
    {
     "output_type": "display_data",
     "data": {
      "text/plain": [
       "<Figure size 432x288 with 1 Axes>"
      ],
      "image/png": "[encoded data removed]"
     },
     "metadata": {
      "needs_background": "light"
     }
    }
   ],
   "metadata": {}
  },
  {
   "cell_type": "code",
   "execution_count": 45,
   "source": [
    "df_ibm=df_ibm[['Close']]\n",
    "df_ibm.head()"
   ],
   "outputs": [
    {
     "output_type": "execute_result",
     "data": {
      "text/plain": [
       "             Close\n",
       "2010-01-04  21.128\n",
       "2010-01-05  20.899\n",
       "2010-01-06  20.825\n",
       "2010-01-07  20.798\n",
       "2010-01-08  20.791"
      ],
      "text/html": [
       "<div>\n",
       "<style scoped>\n",
       "    .dataframe tbody tr th:only-of-type {\n",
       "        vertical-align: middle;\n",
       "    }\n",
       "\n",
       "    .dataframe tbody tr th {\n",
       "        vertical-align: top;\n",
       "    }\n",
       "\n",
       "    .dataframe thead th {\n",
       "        text-align: right;\n",
       "    }\n",
       "</style>\n",
       "<table border=\"1\" class=\"dataframe\">\n",
       "  <thead>\n",
       "    <tr style=\"text-align: right;\">\n",
       "      <th></th>\n",
       "      <th>Close</th>\n",
       "    </tr>\n",
       "  </thead>\n",
       "  <tbody>\n",
       "    <tr>\n",
       "      <th>2010-01-04</th>\n",
       "      <td>21.128</td>\n",
       "    </tr>\n",
       "    <tr>\n",
       "      <th>2010-01-05</th>\n",
       "      <td>20.899</td>\n",
       "    </tr>\n",
       "    <tr>\n",
       "      <th>2010-01-06</th>\n",
       "      <td>20.825</td>\n",
       "    </tr>\n",
       "    <tr>\n",
       "      <th>2010-01-07</th>\n",
       "      <td>20.798</td>\n",
       "    </tr>\n",
       "    <tr>\n",
       "      <th>2010-01-08</th>\n",
       "      <td>20.791</td>\n",
       "    </tr>\n",
       "  </tbody>\n",
       "</table>\n",
       "</div>"
      ]
     },
     "metadata": {},
     "execution_count": 45
    }
   ],
   "metadata": {}
  },
  {
   "cell_type": "code",
   "execution_count": 46,
   "source": [
    "df_ibm=df_ibm.fillna(method='ffill')\n",
    "\n",
    "scaler = MinMaxScaler(feature_range=(-1, 1))\n",
    "df_ibm['Close'] = scaler.fit_transform(df_ibm['Close'].values.reshape(-1,1))"
   ],
   "outputs": [],
   "metadata": {}
  },
  {
   "cell_type": "code",
   "execution_count": 48,
   "source": [
    "def load_data(stock,look_back):\n",
    "    data_raw = stock.values\n",
    "    data = []\n",
    "    for index in range(len(data_raw) - look_back): \n",
    "        data.append(data_raw[index: index + look_back])\n",
    "    data = np.array(data)\n",
    "    test_set_size = int(np.round(0.2*data.shape[0]))\n",
    "    train_set_size = data.shape[0] - (test_set_size) \n",
    "    x_train = data[:train_set_size,:-1,:] #(1606,19,1)\n",
    "    y_train = data[:train_set_size,-1,:]\n",
    "    x_test  = data[train_set_size:,:-1,:]\n",
    "    y_test  = data[train_set_size:,-1,:]\n",
    "    return [x_train,y_train,x_test,y_test]"
   ],
   "outputs": [],
   "metadata": {}
  },
  {
   "cell_type": "code",
   "execution_count": 49,
   "source": [
    "look_back = 20 # choose sequence length\n",
    "x_train, y_train, x_test, y_test = load_data(df_ibm, look_back)\n",
    "print('x_train.shape = ',x_train.shape)\n",
    "print('y_train.shape = ',y_train.shape)\n",
    "print('x_test.shape = ',x_test.shape)\n",
    "print('y_test.shape = ',y_test.shape)"
   ],
   "outputs": [
    {
     "output_type": "stream",
     "name": "stdout",
     "text": [
      "x_train.shape =  (1606, 19, 1)\n",
      "y_train.shape =  (1606, 1)\n",
      "x_test.shape =  (402, 19, 1)\n",
      "y_test.shape =  (402, 1)\n"
     ]
    }
   ],
   "metadata": {}
  },
  {
   "cell_type": "code",
   "execution_count": 50,
   "source": [
    "# make training and test sets in torch\n",
    "x_train = torch.from_numpy(x_train).type(torch.Tensor)\n",
    "x_test = torch.from_numpy(x_test).type(torch.Tensor)\n",
    "y_train = torch.from_numpy(y_train).type(torch.Tensor)\n",
    "y_test = torch.from_numpy(y_test).type(torch.Tensor)"
   ],
   "outputs": [],
   "metadata": {}
  },
  {
   "cell_type": "code",
   "execution_count": 51,
   "source": [
    "y_train.size(),x_train.size()"
   ],
   "outputs": [
    {
     "output_type": "execute_result",
     "data": {
      "text/plain": [
       "(torch.Size([1606, 1]), torch.Size([1606, 19, 1]))"
      ]
     },
     "metadata": {},
     "execution_count": 51
    }
   ],
   "metadata": {}
  },
  {
   "cell_type": "code",
   "execution_count": 52,
   "source": [
    "n_steps = look_back-1\n",
    "batch_size = 1606\n",
    "num_epochs = 100"
   ],
   "outputs": [],
   "metadata": {}
  },
  {
   "cell_type": "code",
   "execution_count": 53,
   "source": [
    "train = torch.utils.data.TensorDataset(x_train,y_train)\n",
    "test = torch.utils.data.TensorDataset(x_test,y_test)\n",
    "train_loader = torch.utils.data.DataLoader(dataset=train, \n",
    "                                           batch_size=batch_size, \n",
    "                                           shuffle=False)\n",
    "\n",
    "test_loader = torch.utils.data.DataLoader(dataset=test, \n",
    "                                          batch_size=batch_size, \n",
    "                                          shuffle=False)"
   ],
   "outputs": [],
   "metadata": {}
  },
  {
   "cell_type": "code",
   "execution_count": 54,
   "source": [
    "# Build model\n",
    "#####################\n",
    "input_dim = 1\n",
    "hidden_dim = 32\n",
    "num_layers = 2 \n",
    "output_dim = 1\n",
    "class LSTM(nn.Module):\n",
    "    def __init__(self, input_dim, hidden_dim, num_layers, output_dim):\n",
    "        super(LSTM, self).__init__()\n",
    "        # Hidden dimensions\n",
    "        self.hidden_dim = hidden_dim\n",
    "\n",
    "        # Number of hidden layers\n",
    "        self.num_layers = num_layers\n",
    "\n",
    "        # Building your LSTM\n",
    "        # batch_first=True causes input/output tensors to be of shape\n",
    "        # (batch_dim, seq_dim, feature_dim)\n",
    "        self.lstm = nn.LSTM(input_dim, hidden_dim, num_layers, batch_first=True)\n",
    "\n",
    "        # Readout layer\n",
    "        self.fc = nn.Linear(hidden_dim, output_dim)\n",
    "\n",
    "    def forward(self, x):\n",
    "        # Initialize hidden state with zeros\n",
    "        h0 = torch.zeros(self.num_layers, x.size(0), self.hidden_dim).requires_grad_()\n",
    "\n",
    "        # Initialize cell state\n",
    "        c0 = torch.zeros(self.num_layers, x.size(0), self.hidden_dim).requires_grad_()\n",
    "\n",
    "        # One time step\n",
    "        # We need to detach as we are doing truncated backpropagation through time (BPTT)\n",
    "        # If we don't, we'll backprop all the way to the start even after going through another batch\n",
    "        out, (hn, cn) = self.lstm(x, (h0.detach(), c0.detach()))\n",
    "\n",
    "        out = self.fc(out[:, -1, :]) \n",
    "        # out.size() --> 100, 10\n",
    "        return out\n",
    "    "
   ],
   "outputs": [],
   "metadata": {}
  },
  {
   "cell_type": "code",
   "execution_count": 55,
   "source": [
    "model = LSTM(input_dim=input_dim, hidden_dim=hidden_dim, output_dim=output_dim, num_layers=num_layers)\n",
    "\n",
    "loss_fn = torch.nn.MSELoss(size_average=True)\n",
    "\n",
    "optimiser = torch.optim.Adam(model.parameters(), lr=0.01)\n",
    "print(model)\n",
    "print(len(list(model.parameters())))\n",
    "for i in range(len(list(model.parameters()))):\n",
    "    print(list(model.parameters())[i].size())"
   ],
   "outputs": [
    {
     "output_type": "stream",
     "name": "stdout",
     "text": [
      "LSTM(\n",
      "  (lstm): LSTM(1, 32, num_layers=2, batch_first=True)\n",
      "  (fc): Linear(in_features=32, out_features=1, bias=True)\n",
      ")\n",
      "10\n",
      "torch.Size([128, 1])\n",
      "torch.Size([128, 32])\n",
      "torch.Size([128])\n",
      "torch.Size([128])\n",
      "torch.Size([128, 32])\n",
      "torch.Size([128, 32])\n",
      "torch.Size([128])\n",
      "torch.Size([128])\n",
      "torch.Size([1, 32])\n",
      "torch.Size([1])\n"
     ]
    },
    {
     "output_type": "stream",
     "name": "stderr",
     "text": [
      "/Users/user/miniconda3/lib/python3.8/site-packages/torch/nn/_reduction.py:42: UserWarning: size_average and reduce args will be deprecated, please use reduction='mean' instead.\n",
      "  warnings.warn(warning.format(ret))\n"
     ]
    }
   ],
   "metadata": {}
  },
  {
   "cell_type": "code",
   "execution_count": 56,
   "source": [
    "# train model\n",
    "hist = np.zeros(num_epochs)\n",
    "seq_dim = look_back-1\n",
    "for t in range(num_epochs):\n",
    "    # Initialise hidden state\n",
    "    # Don't do this if you want your LSTM to be stateful\n",
    "    #model.hidden = model.init_hidden()\n",
    "    \n",
    "    # Forward pass\n",
    "    y_train_pred = model(x_train)\n",
    "\n",
    "    loss = loss_fn(y_train_pred, y_train)\n",
    "    if t % 10 == 0 and t !=0:\n",
    "        print(\"Epoch \", t, \"MSE: \", loss.item())\n",
    "    hist[t] = loss.item()\n",
    "\n",
    "    # Zero out gradient, else they will accumulate between epochs\n",
    "    optimiser.zero_grad()\n",
    "\n",
    "    # Backward pass\n",
    "    loss.backward()\n",
    "\n",
    "    # Update parameters\n",
    "    optimiser.step()"
   ],
   "outputs": [
    {
     "output_type": "stream",
     "name": "stdout",
     "text": [
      "Epoch  10 MSE:  0.040629032999277115\n",
      "Epoch  20 MSE:  0.009415085427463055\n",
      "Epoch  30 MSE:  0.002887076698243618\n",
      "Epoch  40 MSE:  0.002508798846974969\n",
      "Epoch  50 MSE:  0.0019208210287615657\n",
      "Epoch  60 MSE:  0.0016186791472136974\n",
      "Epoch  70 MSE:  0.0014586157631129026\n",
      "Epoch  80 MSE:  0.0013547149719670415\n",
      "Epoch  90 MSE:  0.0012889831559732556\n"
     ]
    }
   ],
   "metadata": {}
  },
  {
   "cell_type": "code",
   "execution_count": 57,
   "source": [
    "plt.plot(y_train_pred.detach().numpy(), label=\"Preds\")\n",
    "plt.plot(y_train.detach().numpy(), label=\"Data\")\n",
    "plt.legend()\n",
    "plt.show()\n",
    "\n",
    "plt.plot(hist, label=\"Training loss\")\n",
    "plt.legend()\n",
    "plt.show()"
   ],
   "outputs": [
    {
     "output_type": "display_data",
     "data": {
      "text/plain": [
       "<Figure size 432x288 with 1 Axes>"
      ],
      "image/png": "[encoded data removed]"
     },
     "metadata": {
      "needs_background": "light"
     }
    },
    {
     "output_type": "display_data",
     "data": {
      "text/plain": [
       "<Figure size 432x288 with 1 Axes>"
      ],
      "image/png": "[encoded data removed]"
     },
     "metadata": {
      "needs_background": "light"
     }
    }
   ],
   "metadata": {}
  },
  {
   "cell_type": "code",
   "execution_count": 58,
   "source": [
    "# make predictions\n",
    "y_test_pred = model(x_test)\n",
    "\n",
    "# invert predictions\n",
    "y_train_pred = scaler.inverse_transform(y_train_pred.detach().numpy())\n",
    "y_train = scaler.inverse_transform(y_train.detach().numpy())\n",
    "y_test_pred = scaler.inverse_transform(y_test_pred.detach().numpy())\n",
    "y_test = scaler.inverse_transform(y_test.detach().numpy())\n",
    "\n",
    "# calculate root mean squared error\n",
    "trainScore = math.sqrt(mean_squared_error(y_train[:,0], y_train_pred[:,0]))\n",
    "print('Train Score: %.2f RMSE' % (trainScore))\n",
    "testScore = math.sqrt(mean_squared_error(y_test[:,0], y_test_pred[:,0]))\n",
    "print('Test Score: %.2f RMSE' % (testScore))\n"
   ],
   "outputs": [
    {
     "output_type": "stream",
     "name": "stdout",
     "text": [
      "Train Score: 0.85 RMSE\n",
      "Test Score: 6.01 RMSE\n"
     ]
    }
   ],
   "metadata": {}
  },
  {
   "cell_type": "code",
   "execution_count": 61,
   "source": [
    "# shift train predictions for plotting\n",
    "trainPredictPlot = np.empty_like(df_ibm)\n",
    "trainPredictPlot[:, :] = np.nan\n",
    "trainPredictPlot[look_back:len(y_train_pred)+look_back, :] = y_train_pred\n",
    "\n",
    "# shift test predictions for plotting\n",
    "testPredictPlot = np.empty_like(df_ibm)\n",
    "testPredictPlot[:, :] = np.nan\n",
    "testPredictPlot[len(y_train_pred)+look_back-1:len(df_ibm)-1, :] = y_test_pred\n",
    "\n",
    "# plot baseline and predictions\n",
    "plt.figure(figsize=(15,8))\n",
    "plt.plot(scaler.inverse_transform(df_ibm))\n",
    "plt.plot(trainPredictPlot)\n",
    "plt.plot(testPredictPlot)\n",
    "plt.show()"
   ],
   "outputs": [
    {
     "output_type": "display_data",
     "data": {
      "text/plain": [
       "<Figure size 1080x576 with 1 Axes>"
      ],
      "image/png": "[encoded data removed]"
     },
     "metadata": {
      "needs_background": "light"
     }
    }
   ],
   "metadata": {}
  },
  {
   "cell_type": "code",
   "execution_count": 62,
   "source": [
    "y_test"
   ],
   "outputs": [
    {
     "output_type": "execute_result",
     "data": {
      "text/plain": [
       "array([[38.829   ],\n",
       "       [39.459   ],\n",
       "       [39.419   ],\n",
       "       [39.155003],\n",
       "       [39.718998],\n",
       "       [39.425   ],\n",
       "       [38.687   ],\n",
       "       [39.652   ],\n",
       "       [38.892002],\n",
       "       [38.961   ],\n",
       "       [38.833   ],\n",
       "       [39.170002],\n",
       "       [40.095   ],\n",
       "       [40.183   ],\n",
       "       [40.311   ],\n",
       "       [40.704998],\n",
       "       [40.794   ],\n",
       "       [40.913   ],\n",
       "       [41.317   ],\n",
       "       [41.188   ],\n",
       "       [41.021   ],\n",
       "       [40.715   ],\n",
       "       [40.973   ],\n",
       "       [40.578   ],\n",
       "       [40.321   ],\n",
       "       [41.1     ],\n",
       "       [40.638   ],\n",
       "       [39.928   ],\n",
       "       [40.36    ],\n",
       "       [40.824   ],\n",
       "       [40.724   ],\n",
       "       [41.386   ],\n",
       "       [41.839   ],\n",
       "       [42.105   ],\n",
       "       [41.997   ],\n",
       "       [42.313   ],\n",
       "       [43.759003],\n",
       "       [43.672   ],\n",
       "       [43.909   ],\n",
       "       [44.232998],\n",
       "       [43.919   ],\n",
       "       [44.372   ],\n",
       "       [44.756   ],\n",
       "       [44.844   ],\n",
       "       [45.149   ],\n",
       "       [45.149   ],\n",
       "       [45.218002],\n",
       "       [45.277   ],\n",
       "       [45.228   ],\n",
       "       [45.052002],\n",
       "       [45.188   ],\n",
       "       [45.082   ],\n",
       "       [45.475998],\n",
       "       [45.417   ],\n",
       "       [44.697   ],\n",
       "       [44.263   ],\n",
       "       [44.253   ],\n",
       "       [44.283   ],\n",
       "       [44.707   ],\n",
       "       [44.697   ],\n",
       "       [45.466   ],\n",
       "       [45.485   ],\n",
       "       [45.357   ],\n",
       "       [45.996998],\n",
       "       [43.475   ],\n",
       "       [41.643   ],\n",
       "       [42.479   ],\n",
       "       [43.121002],\n",
       "       [43.826   ],\n",
       "       [44.064   ],\n",
       "       [44.064   ],\n",
       "       [43.224   ],\n",
       "       [43.935   ],\n",
       "       [43.886   ],\n",
       "       [44.933   ],\n",
       "       [44.854   ],\n",
       "       [45.97    ],\n",
       "       [45.851997],\n",
       "       [46.237   ],\n",
       "       [46.108   ],\n",
       "       [46.237   ],\n",
       "       [46.414997],\n",
       "       [46.445   ],\n",
       "       [46.108   ],\n",
       "       [46.02    ],\n",
       "       [45.585   ],\n",
       "       [46.385002],\n",
       "       [46.692   ],\n",
       "       [46.938   ],\n",
       "       [47.532   ],\n",
       "       [47.293   ],\n",
       "       [46.612   ],\n",
       "       [46.523003],\n",
       "       [46.267   ],\n",
       "       [46.918   ],\n",
       "       [46.662   ],\n",
       "       [46.878002],\n",
       "       [46.938   ],\n",
       "       [47.551003],\n",
       "       [47.56    ],\n",
       "       [47.857002],\n",
       "       [47.699   ],\n",
       "       [47.848   ],\n",
       "       [46.157   ],\n",
       "       [47.048   ],\n",
       "       [47.008   ],\n",
       "       [47.245   ],\n",
       "       [46.138   ],\n",
       "       [46.692   ],\n",
       "       [46.751   ],\n",
       "       [47.048   ],\n",
       "       [46.572998],\n",
       "       [46.414997],\n",
       "       [46.425   ],\n",
       "       [46.435   ],\n",
       "       [46.435   ],\n",
       "       [46.385002],\n",
       "       [46.543   ],\n",
       "       [46.454   ],\n",
       "       [44.34    ],\n",
       "       [45.199   ],\n",
       "       [44.36    ],\n",
       "       [44.321   ],\n",
       "       [44.893   ],\n",
       "       [44.251   ],\n",
       "       [44.41    ],\n",
       "       [45.159   ],\n",
       "       [45.486   ],\n",
       "       [46.108   ],\n",
       "       [46.05    ],\n",
       "       [46.01    ],\n",
       "       [46.138   ],\n",
       "       [46.612   ],\n",
       "       [45.851997],\n",
       "       [46.639   ],\n",
       "       [46.689   ],\n",
       "       [46.381   ],\n",
       "       [46.699   ],\n",
       "       [46.846   ],\n",
       "       [46.926   ],\n",
       "       [47.232998],\n",
       "       [45.252   ],\n",
       "       [45.035   ],\n",
       "       [44.727997],\n",
       "       [44.648   ],\n",
       "       [44.718   ],\n",
       "       [45.006   ],\n",
       "       [45.579   ],\n",
       "       [45.607998],\n",
       "       [45.133   ],\n",
       "       [45.412003],\n",
       "       [43.094   ],\n",
       "       [42.954998],\n",
       "       [42.965   ],\n",
       "       [42.805   ],\n",
       "       [43.152   ],\n",
       "       [43.074   ],\n",
       "       [42.845   ],\n",
       "       [43.240997],\n",
       "       [43.896   ],\n",
       "       [45.272   ],\n",
       "       [45.182   ],\n",
       "       [45.5     ],\n",
       "       [46.579   ],\n",
       "       [45.927   ],\n",
       "       [44.896   ],\n",
       "       [44.966   ],\n",
       "       [45.738   ],\n",
       "       [45.5     ],\n",
       "       [44.608   ],\n",
       "       [44.54    ],\n",
       "       [44.035   ],\n",
       "       [44.222   ],\n",
       "       [44.222   ],\n",
       "       [44.460003],\n",
       "       [43.182   ],\n",
       "       [44.055   ],\n",
       "       [43.559002],\n",
       "       [42.795   ],\n",
       "       [43.609   ],\n",
       "       [44.104   ],\n",
       "       [44.411   ],\n",
       "       [44.56    ],\n",
       "       [45.362   ],\n",
       "       [45.857   ],\n",
       "       [45.698   ],\n",
       "       [45.945   ],\n",
       "       [45.698   ],\n",
       "       [46.114   ],\n",
       "       [45.471   ],\n",
       "       [44.996   ],\n",
       "       [45.768   ],\n",
       "       [45.598   ],\n",
       "       [45.53    ],\n",
       "       [45.758   ],\n",
       "       [45.758   ],\n",
       "       [46.065   ],\n",
       "       [45.282   ],\n",
       "       [45.334   ],\n",
       "       [45.254   ],\n",
       "       [45.254   ],\n",
       "       [46.178   ],\n",
       "       [46.784   ],\n",
       "       [46.228   ],\n",
       "       [47.668   ],\n",
       "       [47.817   ],\n",
       "       [47.777   ],\n",
       "       [48.920002],\n",
       "       [48.194   ],\n",
       "       [48.363003],\n",
       "       [48.363003],\n",
       "       [47.996   ],\n",
       "       [47.927002],\n",
       "       [47.32    ],\n",
       "       [47.3     ],\n",
       "       [47.072   ],\n",
       "       [47.033   ],\n",
       "       [48.085   ],\n",
       "       [47.847   ],\n",
       "       [48.324   ],\n",
       "       [47.35    ],\n",
       "       [48.641003],\n",
       "       [48.929996],\n",
       "       [48.572002],\n",
       "       [49.049   ],\n",
       "       [48.94    ],\n",
       "       [49.307   ],\n",
       "       [49.594   ],\n",
       "       [50.131   ],\n",
       "       [50.022   ],\n",
       "       [50.181   ],\n",
       "       [50.051   ],\n",
       "       [51.274002],\n",
       "       [50.499004],\n",
       "       [51.283997],\n",
       "       [51.283997],\n",
       "       [51.006   ],\n",
       "       [50.996   ],\n",
       "       [51.125   ],\n",
       "       [51.392998],\n",
       "       [51.313   ],\n",
       "       [50.955997],\n",
       "       [51.691   ],\n",
       "       [51.034996],\n",
       "       [51.631   ],\n",
       "       [50.906   ],\n",
       "       [50.866   ],\n",
       "       [51.065   ],\n",
       "       [51.085003],\n",
       "       [51.8     ],\n",
       "       [52.098003],\n",
       "       [51.86    ],\n",
       "       [53.736996],\n",
       "       [52.693996],\n",
       "       [52.953   ],\n",
       "       [52.793003],\n",
       "       [52.307   ],\n",
       "       [52.773   ],\n",
       "       [52.823   ],\n",
       "       [52.724   ],\n",
       "       [52.882996],\n",
       "       [53.082   ],\n",
       "       [52.763   ],\n",
       "       [52.963   ],\n",
       "       [52.646   ],\n",
       "       [52.975002],\n",
       "       [52.397   ],\n",
       "       [52.487003],\n",
       "       [52.925003],\n",
       "       [52.616   ],\n",
       "       [52.496   ],\n",
       "       [52.606   ],\n",
       "       [52.327   ],\n",
       "       [52.107998],\n",
       "       [52.107998],\n",
       "       [53.232998],\n",
       "       [52.805   ],\n",
       "       [52.844997],\n",
       "       [52.905   ],\n",
       "       [53.044   ],\n",
       "       [54.209   ],\n",
       "       [54.577   ],\n",
       "       [54.597   ],\n",
       "       [55.195   ],\n",
       "       [54.816998],\n",
       "       [55.563004],\n",
       "       [55.693   ],\n",
       "       [55.922   ],\n",
       "       [56.459   ],\n",
       "       [56.399998],\n",
       "       [56.081   ],\n",
       "       [56.629   ],\n",
       "       [56.031002],\n",
       "       [55.991   ],\n",
       "       [55.922   ],\n",
       "       [56.459   ],\n",
       "       [56.588997],\n",
       "       [55.533   ],\n",
       "       [55.613   ],\n",
       "       [55.892002],\n",
       "       [55.841995],\n",
       "       [58.411   ],\n",
       "       [58.977997],\n",
       "       [59.048   ],\n",
       "       [59.258003],\n",
       "       [59.258003],\n",
       "       [60.114   ],\n",
       "       [60.084   ],\n",
       "       [60.472   ],\n",
       "       [60.552   ],\n",
       "       [60.144   ],\n",
       "       [59.845   ],\n",
       "       [60.373   ],\n",
       "       [59.894   ],\n",
       "       [58.958   ],\n",
       "       [58.739998],\n",
       "       [59.028   ],\n",
       "       [59.128   ],\n",
       "       [58.958   ],\n",
       "       [59.258003],\n",
       "       [60.292995],\n",
       "       [60.073997],\n",
       "       [59.536   ],\n",
       "       [60.352997],\n",
       "       [59.516   ],\n",
       "       [58.988   ],\n",
       "       [58.629997],\n",
       "       [59.148   ],\n",
       "       [58.681   ],\n",
       "       [59.190002],\n",
       "       [59.010002],\n",
       "       [59.010002],\n",
       "       [59.649   ],\n",
       "       [59.100002],\n",
       "       [59.509   ],\n",
       "       [59.739002],\n",
       "       [59.679   ],\n",
       "       [60.607002],\n",
       "       [61.065998],\n",
       "       [61.395   ],\n",
       "       [61.425   ],\n",
       "       [61.086   ],\n",
       "       [61.255997],\n",
       "       [60.857002],\n",
       "       [61.246002],\n",
       "       [61.375   ],\n",
       "       [60.417   ],\n",
       "       [59.599003],\n",
       "       [59.788998],\n",
       "       [59.958   ],\n",
       "       [59.669   ],\n",
       "       [59.819   ],\n",
       "       [60.078003],\n",
       "       [60.248   ],\n",
       "       [60.008   ],\n",
       "       [60.747   ],\n",
       "       [60.018   ],\n",
       "       [59.559   ],\n",
       "       [58.451   ],\n",
       "       [59.21    ],\n",
       "       [59.498997],\n",
       "       [59.26    ],\n",
       "       [62.014   ],\n",
       "       [60.737   ],\n",
       "       [61.126   ],\n",
       "       [61.614998],\n",
       "       [62.833   ],\n",
       "       [62.642998],\n",
       "       [62.553   ],\n",
       "       [62.773003],\n",
       "       [63.330997],\n",
       "       [63.360996],\n",
       "       [63.771   ],\n",
       "       [64.589   ],\n",
       "       [64.25    ],\n",
       "       [64.25    ],\n",
       "       [64.16    ],\n",
       "       [64.579   ],\n",
       "       [65.007996],\n",
       "       [64.888   ],\n",
       "       [65.976   ],\n",
       "       [66.006   ],\n",
       "       [65.307   ],\n",
       "       [65.547   ],\n",
       "       [65.826004],\n",
       "       [65.946   ],\n",
       "       [66.035995],\n",
       "       [65.956   ],\n",
       "       [65.786995],\n",
       "       [65.646996],\n",
       "       [64.599   ],\n",
       "       [63.98    ],\n",
       "       [64.259995],\n",
       "       [63.850002],\n",
       "       [64.07    ],\n",
       "       [64.87    ],\n",
       "       [65.15    ],\n",
       "       [65.83    ],\n",
       "       [65.7     ],\n",
       "       [66.36    ],\n",
       "       [66.56    ],\n",
       "       [66.6     ]], dtype=float32)"
      ]
     },
     "metadata": {},
     "execution_count": 62
    }
   ],
   "metadata": {}
  },
  {
   "cell_type": "code",
   "execution_count": null,
   "source": [],
   "outputs": [],
   "metadata": {}
  }
 ],
 "metadata": {
  "kernelspec": {
   "name": "python3",
   "display_name": "Python 3.8.10 64-bit ('base': conda)"
  },
  "language_info": {
   "codemirror_mode": {
    "name": "ipython",
    "version": 3
   },
   "file_extension": ".py",
   "mimetype": "text/x-python",
   "name": "python",
   "nbconvert_exporter": "python",
   "pygments_lexer": "ipython3",
   "version": "3.8.10"
  },
  "interpreter": {
   "hash": "69301c35aa492a567aff22ff922fcafaffbc33c7ff0e3f0e00d95fd7a5792235"
  }
 },
 "nbformat": 4,
 "nbformat_minor": 4
}